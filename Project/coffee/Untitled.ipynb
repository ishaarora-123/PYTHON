{
 "cells": [
  {
   "cell_type": "code",
   "execution_count": 299,
   "id": "a854bf6c-ecee-45c8-aa86-1b1b14e761b1",
   "metadata": {},
   "outputs": [],
   "source": [
    "import pandas as pd\n",
    "import numpy as np\n",
    "import seaborn as sns\n",
    "import matplotlib.pyplot as plt"
   ]
  },
  {
   "cell_type": "code",
   "execution_count": 213,
   "id": "bd8c26ac-a077-4010-87d2-85f1ca69ef62",
   "metadata": {},
   "outputs": [],
   "source": [
    "df = pd.read_csv('dirty_cafe_sales.csv')\n",
    "df2 = pd.read_csv('dirty_cafe_sales.csv')"
   ]
  },
  {
   "cell_type": "code",
   "execution_count": 215,
   "id": "1e90a4b3-faa0-40bf-83e7-d4444ec4f18b",
   "metadata": {},
   "outputs": [
    {
     "name": "stdout",
     "output_type": "stream",
     "text": [
      "<class 'pandas.core.frame.DataFrame'>\n",
      "Index: 4550 entries, 0 to 9999\n",
      "Data columns (total 8 columns):\n",
      " #   Column            Non-Null Count  Dtype \n",
      "---  ------            --------------  ----- \n",
      " 0   Transaction ID    4550 non-null   object\n",
      " 1   Item              4550 non-null   object\n",
      " 2   Quantity          4550 non-null   object\n",
      " 3   Price Per Unit    4550 non-null   object\n",
      " 4   Total Spent       4550 non-null   object\n",
      " 5   Payment Method    4550 non-null   object\n",
      " 6   Location          4550 non-null   object\n",
      " 7   Transaction Date  4550 non-null   object\n",
      "dtypes: object(8)\n",
      "memory usage: 319.9+ KB\n"
     ]
    }
   ],
   "source": [
    "df2 = df2.dropna()\n",
    "df2.info()"
   ]
  },
  {
   "cell_type": "code",
   "execution_count": 217,
   "id": "9bcda994-a4f2-4200-9229-30774ab33e75",
   "metadata": {},
   "outputs": [
    {
     "data": {
      "text/html": [
       "<div>\n",
       "<style scoped>\n",
       "    .dataframe tbody tr th:only-of-type {\n",
       "        vertical-align: middle;\n",
       "    }\n",
       "\n",
       "    .dataframe tbody tr th {\n",
       "        vertical-align: top;\n",
       "    }\n",
       "\n",
       "    .dataframe thead th {\n",
       "        text-align: right;\n",
       "    }\n",
       "</style>\n",
       "<table border=\"1\" class=\"dataframe\">\n",
       "  <thead>\n",
       "    <tr style=\"text-align: right;\">\n",
       "      <th></th>\n",
       "      <th>Transaction ID</th>\n",
       "      <th>Item</th>\n",
       "      <th>Quantity</th>\n",
       "      <th>Price Per Unit</th>\n",
       "      <th>Total Spent</th>\n",
       "      <th>Payment Method</th>\n",
       "      <th>Location</th>\n",
       "      <th>Transaction Date</th>\n",
       "    </tr>\n",
       "  </thead>\n",
       "  <tbody>\n",
       "    <tr>\n",
       "      <th>0</th>\n",
       "      <td>TXN_1961373</td>\n",
       "      <td>Coffee</td>\n",
       "      <td>2</td>\n",
       "      <td>2.0</td>\n",
       "      <td>4.0</td>\n",
       "      <td>Credit Card</td>\n",
       "      <td>Takeaway</td>\n",
       "      <td>2023-09-08</td>\n",
       "    </tr>\n",
       "    <tr>\n",
       "      <th>1</th>\n",
       "      <td>TXN_4977031</td>\n",
       "      <td>Cake</td>\n",
       "      <td>4</td>\n",
       "      <td>3.0</td>\n",
       "      <td>12.0</td>\n",
       "      <td>Cash</td>\n",
       "      <td>In-store</td>\n",
       "      <td>2023-05-16</td>\n",
       "    </tr>\n",
       "    <tr>\n",
       "      <th>2</th>\n",
       "      <td>TXN_4271903</td>\n",
       "      <td>Cookie</td>\n",
       "      <td>4</td>\n",
       "      <td>1.0</td>\n",
       "      <td>ERROR</td>\n",
       "      <td>Credit Card</td>\n",
       "      <td>In-store</td>\n",
       "      <td>2023-07-19</td>\n",
       "    </tr>\n",
       "    <tr>\n",
       "      <th>3</th>\n",
       "      <td>TXN_7034554</td>\n",
       "      <td>Salad</td>\n",
       "      <td>2</td>\n",
       "      <td>5.0</td>\n",
       "      <td>10.0</td>\n",
       "      <td>UNKNOWN</td>\n",
       "      <td>UNKNOWN</td>\n",
       "      <td>2023-04-27</td>\n",
       "    </tr>\n",
       "    <tr>\n",
       "      <th>4</th>\n",
       "      <td>TXN_3160411</td>\n",
       "      <td>Coffee</td>\n",
       "      <td>2</td>\n",
       "      <td>2.0</td>\n",
       "      <td>4.0</td>\n",
       "      <td>Digital Wallet</td>\n",
       "      <td>In-store</td>\n",
       "      <td>2023-06-11</td>\n",
       "    </tr>\n",
       "  </tbody>\n",
       "</table>\n",
       "</div>"
      ],
      "text/plain": [
       "  Transaction ID    Item Quantity Price Per Unit Total Spent  Payment Method  \\\n",
       "0    TXN_1961373  Coffee        2            2.0         4.0     Credit Card   \n",
       "1    TXN_4977031    Cake        4            3.0        12.0            Cash   \n",
       "2    TXN_4271903  Cookie        4            1.0       ERROR     Credit Card   \n",
       "3    TXN_7034554   Salad        2            5.0        10.0         UNKNOWN   \n",
       "4    TXN_3160411  Coffee        2            2.0         4.0  Digital Wallet   \n",
       "\n",
       "   Location Transaction Date  \n",
       "0  Takeaway       2023-09-08  \n",
       "1  In-store       2023-05-16  \n",
       "2  In-store       2023-07-19  \n",
       "3   UNKNOWN       2023-04-27  \n",
       "4  In-store       2023-06-11  "
      ]
     },
     "execution_count": 217,
     "metadata": {},
     "output_type": "execute_result"
    }
   ],
   "source": [
    "df.head()"
   ]
  },
  {
   "cell_type": "code",
   "execution_count": 219,
   "id": "d92a336e-1781-4e6b-bbff-fa9eae43eaaf",
   "metadata": {},
   "outputs": [
    {
     "name": "stdout",
     "output_type": "stream",
     "text": [
      "<class 'pandas.core.frame.DataFrame'>\n",
      "RangeIndex: 10000 entries, 0 to 9999\n",
      "Data columns (total 8 columns):\n",
      " #   Column            Non-Null Count  Dtype \n",
      "---  ------            --------------  ----- \n",
      " 0   Transaction ID    10000 non-null  object\n",
      " 1   Item              9667 non-null   object\n",
      " 2   Quantity          9862 non-null   object\n",
      " 3   Price Per Unit    9821 non-null   object\n",
      " 4   Total Spent       9827 non-null   object\n",
      " 5   Payment Method    7421 non-null   object\n",
      " 6   Location          6735 non-null   object\n",
      " 7   Transaction Date  9841 non-null   object\n",
      "dtypes: object(8)\n",
      "memory usage: 625.1+ KB\n"
     ]
    }
   ],
   "source": [
    "df.info()"
   ]
  },
  {
   "cell_type": "code",
   "execution_count": 221,
   "id": "22347e88-ac7e-4c9b-b00a-7f04d82d6dfe",
   "metadata": {},
   "outputs": [
    {
     "data": {
      "text/plain": [
       "(10000, 8)"
      ]
     },
     "execution_count": 221,
     "metadata": {},
     "output_type": "execute_result"
    }
   ],
   "source": [
    "df.shape"
   ]
  },
  {
   "cell_type": "code",
   "execution_count": 223,
   "id": "24d9c71f-a995-4a4c-9c71-c93923c75ddd",
   "metadata": {},
   "outputs": [
    {
     "data": {
      "text/plain": [
       "array(['Coffee', 'Cake', 'Cookie', 'Salad', 'Smoothie', 'UNKNOWN',\n",
       "       'Sandwich', nan, 'ERROR', 'Juice', 'Tea'], dtype=object)"
      ]
     },
     "execution_count": 223,
     "metadata": {},
     "output_type": "execute_result"
    }
   ],
   "source": [
    "df['Item'].unique()"
   ]
  },
  {
   "cell_type": "code",
   "execution_count": 225,
   "id": "1660bf4c-53c6-44c3-a232-e2f86707074d",
   "metadata": {},
   "outputs": [
    {
     "data": {
      "text/plain": [
       "array(['1.0', 'UNKNOWN', nan, 'ERROR'], dtype=object)"
      ]
     },
     "execution_count": 225,
     "metadata": {},
     "output_type": "execute_result"
    }
   ],
   "source": [
    "df[df['Item'] == 'Cookie']['Price Per Unit'].unique()"
   ]
  },
  {
   "cell_type": "code",
   "execution_count": 227,
   "id": "701bc91b-2878-4f7e-acc6-a1a636bf2aa6",
   "metadata": {},
   "outputs": [
    {
     "data": {
      "text/plain": [
       "array(['3.0', nan, 'UNKNOWN', 'ERROR'], dtype=object)"
      ]
     },
     "execution_count": 227,
     "metadata": {},
     "output_type": "execute_result"
    }
   ],
   "source": [
    "df[df['Item'] == 'Cake']['Price Per Unit'].unique()"
   ]
  },
  {
   "cell_type": "code",
   "execution_count": 229,
   "id": "ff949e56-d9a3-448a-b5a1-eddddb877d87",
   "metadata": {},
   "outputs": [
    {
     "data": {
      "text/plain": [
       "array(['1.5', '3.0', '5.0', nan, '4.0', '2.0', '1.0', 'UNKNOWN', 'ERROR'],\n",
       "      dtype=object)"
      ]
     },
     "execution_count": 229,
     "metadata": {},
     "output_type": "execute_result"
    }
   ],
   "source": [
    "df[df['Item'] == 'ERROR']['Price Per Unit'].unique()"
   ]
  },
  {
   "cell_type": "code",
   "execution_count": 231,
   "id": "946e510a-24f0-4d04-8621-169be777aecb",
   "metadata": {},
   "outputs": [
    {
     "data": {
      "text/plain": [
       "array(['3.0', '1.0', '5.0', '4.0', '1.5', '2.0', nan, 'UNKNOWN', 'ERROR'],\n",
       "      dtype=object)"
      ]
     },
     "execution_count": 231,
     "metadata": {},
     "output_type": "execute_result"
    }
   ],
   "source": [
    "df[df['Item'] == 'UNKNOWN']['Price Per Unit'].unique()"
   ]
  },
  {
   "cell_type": "code",
   "execution_count": 233,
   "id": "011408b9-c1b9-4a02-b0c9-1b43cbffa440",
   "metadata": {},
   "outputs": [
    {
     "data": {
      "text/plain": [
       "array(['Coffee', 'Cake', 'Cookie', 'Salad', 'Smoothie', 'Sandwich',\n",
       "       'Juice', 'Tea'], dtype=object)"
      ]
     },
     "execution_count": 233,
     "metadata": {},
     "output_type": "execute_result"
    }
   ],
   "source": [
    "def maskfun(df, col):\n",
    "    mask1 = df[col] != 'ERROR'\n",
    "    df = df[mask1]\n",
    "    mask2 = df[col] != 'UNKNOWN'\n",
    "    df = df[mask2]\n",
    "    df.dropna(subset=[col], inplace=True)\n",
    "    return df\n",
    "df = maskfun(df, 'Item')\n",
    "df['Item'].unique()"
   ]
  },
  {
   "cell_type": "code",
   "execution_count": 235,
   "id": "b1a52c3d-9ef3-44ff-9694-490179facea4",
   "metadata": {},
   "outputs": [
    {
     "name": "stdout",
     "output_type": "stream",
     "text": [
      "<class 'pandas.core.frame.DataFrame'>\n",
      "Index: 9031 entries, 0 to 9999\n",
      "Data columns (total 8 columns):\n",
      " #   Column            Non-Null Count  Dtype \n",
      "---  ------            --------------  ----- \n",
      " 0   Transaction ID    9031 non-null   object\n",
      " 1   Item              9031 non-null   object\n",
      " 2   Quantity          8910 non-null   object\n",
      " 3   Price Per Unit    8873 non-null   object\n",
      " 4   Total Spent       8877 non-null   object\n",
      " 5   Payment Method    6701 non-null   object\n",
      " 6   Location          6086 non-null   object\n",
      " 7   Transaction Date  8888 non-null   object\n",
      "dtypes: object(8)\n",
      "memory usage: 635.0+ KB\n"
     ]
    }
   ],
   "source": [
    "df.info()"
   ]
  },
  {
   "cell_type": "code",
   "execution_count": 237,
   "id": "aae6bb04-6219-4b68-adf5-a6e3b2cd9fd2",
   "metadata": {},
   "outputs": [
    {
     "name": "stdout",
     "output_type": "stream",
     "text": [
      "Coffee 2.0\n",
      "Cake 3.0\n",
      "Cookie 1.0\n",
      "Salad 5.0\n",
      "Smoothie 4.0\n",
      "Sandwich 4.0\n",
      "Juice 3.0\n",
      "Tea 1.5\n"
     ]
    }
   ],
   "source": [
    "perunitprice = {}\n",
    "for i in df['Item'].unique():\n",
    "     perunitprice[i] = (df[df['Item'] == i]['Price Per Unit'].unique()[0])\n",
    "for key, value in perunitprice.items():\n",
    "    print(key, value)"
   ]
  },
  {
   "cell_type": "code",
   "execution_count": 239,
   "id": "583d2f56-ab86-4db1-84a2-a16a4c33d293",
   "metadata": {},
   "outputs": [],
   "source": [
    "nonevalues = ['UNKNOWN', 'ERROR']\n",
    "for key, value in perunitprice.items():\n",
    "    mask = (df['Item'] == key) & ((df['Price Per Unit'].isin(nonevalues)) | df['Price Per Unit'].isna())\n",
    "    df.loc[mask, 'Price Per Unit'] = value"
   ]
  },
  {
   "cell_type": "code",
   "execution_count": 241,
   "id": "15ae6ea0-429e-4cec-b2ec-bc902843a62a",
   "metadata": {},
   "outputs": [
    {
     "data": {
      "text/html": [
       "<div>\n",
       "<style scoped>\n",
       "    .dataframe tbody tr th:only-of-type {\n",
       "        vertical-align: middle;\n",
       "    }\n",
       "\n",
       "    .dataframe tbody tr th {\n",
       "        vertical-align: top;\n",
       "    }\n",
       "\n",
       "    .dataframe thead th {\n",
       "        text-align: right;\n",
       "    }\n",
       "</style>\n",
       "<table border=\"1\" class=\"dataframe\">\n",
       "  <thead>\n",
       "    <tr style=\"text-align: right;\">\n",
       "      <th></th>\n",
       "      <th>Transaction ID</th>\n",
       "      <th>Item</th>\n",
       "      <th>Quantity</th>\n",
       "      <th>Price Per Unit</th>\n",
       "      <th>Total Spent</th>\n",
       "      <th>Payment Method</th>\n",
       "      <th>Location</th>\n",
       "      <th>Transaction Date</th>\n",
       "    </tr>\n",
       "  </thead>\n",
       "  <tbody>\n",
       "    <tr>\n",
       "      <th>0</th>\n",
       "      <td>TXN_1961373</td>\n",
       "      <td>Coffee</td>\n",
       "      <td>2</td>\n",
       "      <td>2.0</td>\n",
       "      <td>4.0</td>\n",
       "      <td>Credit Card</td>\n",
       "      <td>Takeaway</td>\n",
       "      <td>2023-09-08</td>\n",
       "    </tr>\n",
       "    <tr>\n",
       "      <th>1</th>\n",
       "      <td>TXN_4977031</td>\n",
       "      <td>Cake</td>\n",
       "      <td>4</td>\n",
       "      <td>3.0</td>\n",
       "      <td>12.0</td>\n",
       "      <td>Cash</td>\n",
       "      <td>In-store</td>\n",
       "      <td>2023-05-16</td>\n",
       "    </tr>\n",
       "    <tr>\n",
       "      <th>2</th>\n",
       "      <td>TXN_4271903</td>\n",
       "      <td>Cookie</td>\n",
       "      <td>4</td>\n",
       "      <td>1.0</td>\n",
       "      <td>ERROR</td>\n",
       "      <td>Credit Card</td>\n",
       "      <td>In-store</td>\n",
       "      <td>2023-07-19</td>\n",
       "    </tr>\n",
       "    <tr>\n",
       "      <th>3</th>\n",
       "      <td>TXN_7034554</td>\n",
       "      <td>Salad</td>\n",
       "      <td>2</td>\n",
       "      <td>5.0</td>\n",
       "      <td>10.0</td>\n",
       "      <td>UNKNOWN</td>\n",
       "      <td>UNKNOWN</td>\n",
       "      <td>2023-04-27</td>\n",
       "    </tr>\n",
       "    <tr>\n",
       "      <th>4</th>\n",
       "      <td>TXN_3160411</td>\n",
       "      <td>Coffee</td>\n",
       "      <td>2</td>\n",
       "      <td>2.0</td>\n",
       "      <td>4.0</td>\n",
       "      <td>Digital Wallet</td>\n",
       "      <td>In-store</td>\n",
       "      <td>2023-06-11</td>\n",
       "    </tr>\n",
       "  </tbody>\n",
       "</table>\n",
       "</div>"
      ],
      "text/plain": [
       "  Transaction ID    Item Quantity Price Per Unit Total Spent  Payment Method  \\\n",
       "0    TXN_1961373  Coffee        2            2.0         4.0     Credit Card   \n",
       "1    TXN_4977031    Cake        4            3.0        12.0            Cash   \n",
       "2    TXN_4271903  Cookie        4            1.0       ERROR     Credit Card   \n",
       "3    TXN_7034554   Salad        2            5.0        10.0         UNKNOWN   \n",
       "4    TXN_3160411  Coffee        2            2.0         4.0  Digital Wallet   \n",
       "\n",
       "   Location Transaction Date  \n",
       "0  Takeaway       2023-09-08  \n",
       "1  In-store       2023-05-16  \n",
       "2  In-store       2023-07-19  \n",
       "3   UNKNOWN       2023-04-27  \n",
       "4  In-store       2023-06-11  "
      ]
     },
     "execution_count": 241,
     "metadata": {},
     "output_type": "execute_result"
    }
   ],
   "source": [
    "df.head()"
   ]
  },
  {
   "cell_type": "code",
   "execution_count": 243,
   "id": "064b475d-b97e-4bbe-8369-c55bee83297d",
   "metadata": {},
   "outputs": [],
   "source": [
    "df['Price Per Unit'] = df['Price Per Unit'].astype(float)"
   ]
  },
  {
   "cell_type": "code",
   "execution_count": 245,
   "id": "71ab839a-55a5-419a-b68b-0f6c5a4929e1",
   "metadata": {},
   "outputs": [
    {
     "name": "stdout",
     "output_type": "stream",
     "text": [
      "<class 'pandas.core.frame.DataFrame'>\n",
      "Index: 9031 entries, 0 to 9999\n",
      "Data columns (total 8 columns):\n",
      " #   Column            Non-Null Count  Dtype  \n",
      "---  ------            --------------  -----  \n",
      " 0   Transaction ID    9031 non-null   object \n",
      " 1   Item              9031 non-null   object \n",
      " 2   Quantity          8910 non-null   object \n",
      " 3   Price Per Unit    9031 non-null   float64\n",
      " 4   Total Spent       8877 non-null   object \n",
      " 5   Payment Method    6701 non-null   object \n",
      " 6   Location          6086 non-null   object \n",
      " 7   Transaction Date  8888 non-null   object \n",
      "dtypes: float64(1), object(7)\n",
      "memory usage: 635.0+ KB\n"
     ]
    }
   ],
   "source": [
    "df.info()"
   ]
  },
  {
   "cell_type": "code",
   "execution_count": 247,
   "id": "54975e42-ac41-40b8-8e95-cea190c46e1d",
   "metadata": {},
   "outputs": [
    {
     "data": {
      "text/plain": [
       "array(['2', '4', '5', '3', '1', 'ERROR', 'UNKNOWN', nan], dtype=object)"
      ]
     },
     "execution_count": 247,
     "metadata": {},
     "output_type": "execute_result"
    }
   ],
   "source": [
    "df['Quantity'].unique()"
   ]
  },
  {
   "cell_type": "code",
   "execution_count": 249,
   "id": "0d8aa0d0-ce93-4d70-9c6a-0621447ba3ed",
   "metadata": {},
   "outputs": [],
   "source": [
    "for idx, i in df.iterrows():\n",
    "    if i['Quantity'] not in ['ERROR', 'UNKNOWN'] and pd.notna(i['Quantity']):\n",
    "        df.at[idx, 'Total Spent'] = float(i['Quantity']) * float(i['Price Per Unit'])"
   ]
  },
  {
   "cell_type": "code",
   "execution_count": 250,
   "id": "17e24f9d-6279-4df6-b47c-846892260b0a",
   "metadata": {},
   "outputs": [],
   "source": [
    "for idx, i in df.iterrows():\n",
    "    if i['Total Spent'] not in ['ERROR', 'UNKNOWN'] and pd.notna(i['Total Spent']):\n",
    "        df.at[idx, 'Quantity'] = float(i['Total Spent']) / float(i['Price Per Unit'])"
   ]
  },
  {
   "cell_type": "code",
   "execution_count": 252,
   "id": "89e8aee9-6d0b-47e0-b5c4-76bdea6915eb",
   "metadata": {},
   "outputs": [
    {
     "data": {
      "text/plain": [
       "array([2.0, 4.0, 5.0, 3.0, 1.0, 'ERROR', 'UNKNOWN', nan], dtype=object)"
      ]
     },
     "execution_count": 252,
     "metadata": {},
     "output_type": "execute_result"
    }
   ],
   "source": [
    "df['Quantity'].unique()"
   ]
  },
  {
   "cell_type": "code",
   "execution_count": 255,
   "id": "317ca445-0fdb-485e-b77a-21fdf30bbe53",
   "metadata": {},
   "outputs": [
    {
     "name": "stdout",
     "output_type": "stream",
     "text": [
      "<class 'pandas.core.frame.DataFrame'>\n",
      "Index: 9031 entries, 0 to 9999\n",
      "Data columns (total 8 columns):\n",
      " #   Column            Non-Null Count  Dtype  \n",
      "---  ------            --------------  -----  \n",
      " 0   Transaction ID    9031 non-null   object \n",
      " 1   Item              9031 non-null   object \n",
      " 2   Quantity          9023 non-null   object \n",
      " 3   Price Per Unit    9031 non-null   float64\n",
      " 4   Total Spent       9026 non-null   object \n",
      " 5   Payment Method    6701 non-null   object \n",
      " 6   Location          6086 non-null   object \n",
      " 7   Transaction Date  8888 non-null   object \n",
      "dtypes: float64(1), object(7)\n",
      "memory usage: 893.0+ KB\n"
     ]
    }
   ],
   "source": [
    "df.info()"
   ]
  },
  {
   "cell_type": "code",
   "execution_count": 257,
   "id": "ba4292ff-1782-46d4-9dee-495ee859e100",
   "metadata": {},
   "outputs": [],
   "source": [
    "df = maskfun(df, 'Quantity')\n",
    "df = maskfun(df, 'Total Spent')"
   ]
  },
  {
   "cell_type": "code",
   "execution_count": 259,
   "id": "a761d40e-a462-4c6b-b35a-15932bd03a59",
   "metadata": {},
   "outputs": [
    {
     "data": {
      "text/plain": [
       "array([2.0, 4.0, 5.0, 3.0, 1.0], dtype=object)"
      ]
     },
     "execution_count": 259,
     "metadata": {},
     "output_type": "execute_result"
    }
   ],
   "source": [
    "df['Quantity'].unique()"
   ]
  },
  {
   "cell_type": "code",
   "execution_count": 261,
   "id": "fe35d0cb-687c-497a-b187-94edac44a460",
   "metadata": {},
   "outputs": [],
   "source": [
    "df['Quantity'] = df['Quantity'].astype(float)\n",
    "df['Total Spent'] = df['Total Spent'].astype(float)"
   ]
  },
  {
   "cell_type": "code",
   "execution_count": 263,
   "id": "7c4b96ce-e2e7-4998-991a-4065058d00a2",
   "metadata": {},
   "outputs": [
    {
     "name": "stdout",
     "output_type": "stream",
     "text": [
      "<class 'pandas.core.frame.DataFrame'>\n",
      "Index: 9011 entries, 0 to 9999\n",
      "Data columns (total 8 columns):\n",
      " #   Column            Non-Null Count  Dtype  \n",
      "---  ------            --------------  -----  \n",
      " 0   Transaction ID    9011 non-null   object \n",
      " 1   Item              9011 non-null   object \n",
      " 2   Quantity          9011 non-null   float64\n",
      " 3   Price Per Unit    9011 non-null   float64\n",
      " 4   Total Spent       9011 non-null   float64\n",
      " 5   Payment Method    6688 non-null   object \n",
      " 6   Location          6071 non-null   object \n",
      " 7   Transaction Date  8868 non-null   object \n",
      "dtypes: float64(3), object(5)\n",
      "memory usage: 633.6+ KB\n"
     ]
    }
   ],
   "source": [
    "df.info()"
   ]
  },
  {
   "cell_type": "code",
   "execution_count": 265,
   "id": "319dff71-e69c-4630-b974-2e55eee9f846",
   "metadata": {},
   "outputs": [
    {
     "data": {
      "text/plain": [
       "array(['Credit Card', 'Cash', 'UNKNOWN', 'Digital Wallet', nan, 'ERROR'],\n",
       "      dtype=object)"
      ]
     },
     "execution_count": 265,
     "metadata": {},
     "output_type": "execute_result"
    }
   ],
   "source": [
    "df['Payment Method'].unique()"
   ]
  },
  {
   "cell_type": "code",
   "execution_count": 267,
   "id": "9f6246a6-71f6-40a1-9cd2-fdd5dd426119",
   "metadata": {},
   "outputs": [],
   "source": [
    "df = maskfun(df,'Payment Method')"
   ]
  },
  {
   "cell_type": "code",
   "execution_count": 269,
   "id": "642f6b45-2780-4b74-b02e-b028378c58a6",
   "metadata": {},
   "outputs": [
    {
     "name": "stdout",
     "output_type": "stream",
     "text": [
      "<class 'pandas.core.frame.DataFrame'>\n",
      "Index: 6141 entries, 0 to 9999\n",
      "Data columns (total 8 columns):\n",
      " #   Column            Non-Null Count  Dtype  \n",
      "---  ------            --------------  -----  \n",
      " 0   Transaction ID    6141 non-null   object \n",
      " 1   Item              6141 non-null   object \n",
      " 2   Quantity          6141 non-null   float64\n",
      " 3   Price Per Unit    6141 non-null   float64\n",
      " 4   Total Spent       6141 non-null   float64\n",
      " 5   Payment Method    6141 non-null   object \n",
      " 6   Location          4169 non-null   object \n",
      " 7   Transaction Date  6050 non-null   object \n",
      "dtypes: float64(3), object(5)\n",
      "memory usage: 431.8+ KB\n"
     ]
    }
   ],
   "source": [
    "df.info()"
   ]
  },
  {
   "cell_type": "code",
   "execution_count": 271,
   "id": "1a030cb6-b725-4a92-bf66-92b1588e4602",
   "metadata": {},
   "outputs": [],
   "source": [
    "df = maskfun(df,'Transaction Date')"
   ]
  },
  {
   "cell_type": "code",
   "execution_count": 273,
   "id": "3cfb073d-f347-498b-bd24-3b2d78b9da57",
   "metadata": {},
   "outputs": [
    {
     "name": "stdout",
     "output_type": "stream",
     "text": [
      "<class 'pandas.core.frame.DataFrame'>\n",
      "Index: 5872 entries, 0 to 9999\n",
      "Data columns (total 8 columns):\n",
      " #   Column            Non-Null Count  Dtype  \n",
      "---  ------            --------------  -----  \n",
      " 0   Transaction ID    5872 non-null   object \n",
      " 1   Item              5872 non-null   object \n",
      " 2   Quantity          5872 non-null   float64\n",
      " 3   Price Per Unit    5872 non-null   float64\n",
      " 4   Total Spent       5872 non-null   float64\n",
      " 5   Payment Method    5872 non-null   object \n",
      " 6   Location          3985 non-null   object \n",
      " 7   Transaction Date  5872 non-null   object \n",
      "dtypes: float64(3), object(5)\n",
      "memory usage: 412.9+ KB\n"
     ]
    }
   ],
   "source": [
    "df.info()"
   ]
  },
  {
   "cell_type": "code",
   "execution_count": 275,
   "id": "f4bc7662-d825-4a8e-afd5-40b9369bdf73",
   "metadata": {},
   "outputs": [],
   "source": [
    "df['Transaction Date'] = pd.to_datetime(df['Transaction Date'])"
   ]
  },
  {
   "cell_type": "code",
   "execution_count": 277,
   "id": "1351b856-1985-459a-ba8c-3d46caef041a",
   "metadata": {},
   "outputs": [
    {
     "name": "stdout",
     "output_type": "stream",
     "text": [
      "<class 'pandas.core.frame.DataFrame'>\n",
      "Index: 5872 entries, 0 to 9999\n",
      "Data columns (total 8 columns):\n",
      " #   Column            Non-Null Count  Dtype         \n",
      "---  ------            --------------  -----         \n",
      " 0   Transaction ID    5872 non-null   object        \n",
      " 1   Item              5872 non-null   object        \n",
      " 2   Quantity          5872 non-null   float64       \n",
      " 3   Price Per Unit    5872 non-null   float64       \n",
      " 4   Total Spent       5872 non-null   float64       \n",
      " 5   Payment Method    5872 non-null   object        \n",
      " 6   Location          3985 non-null   object        \n",
      " 7   Transaction Date  5872 non-null   datetime64[ns]\n",
      "dtypes: datetime64[ns](1), float64(3), object(4)\n",
      "memory usage: 412.9+ KB\n"
     ]
    }
   ],
   "source": [
    "df.info()"
   ]
  },
  {
   "cell_type": "code",
   "execution_count": 279,
   "id": "4182b028-0a3a-4faa-a32f-6a59dbddf292",
   "metadata": {},
   "outputs": [
    {
     "name": "stderr",
     "output_type": "stream",
     "text": [
      "C:\\Users\\Isha\\AppData\\Local\\Temp\\ipykernel_27832\\4150753581.py:1: FutureWarning: A value is trying to be set on a copy of a DataFrame or Series through chained assignment using an inplace method.\n",
      "The behavior will change in pandas 3.0. This inplace method will never work because the intermediate object on which we are setting values always behaves as a copy.\n",
      "\n",
      "For example, when doing 'df[col].method(value, inplace=True)', try using 'df.method({col: value}, inplace=True)' or df[col] = df[col].method(value) instead, to perform the operation inplace on the original object.\n",
      "\n",
      "\n",
      "  df['Location'].fillna(df['Location'].mode()[0], inplace=True)\n"
     ]
    }
   ],
   "source": [
    "df['Location'].fillna(df['Location'].mode()[0], inplace=True)"
   ]
  },
  {
   "cell_type": "code",
   "execution_count": 281,
   "id": "4a0d8d41-f512-4d2b-a1ec-8149121248d4",
   "metadata": {},
   "outputs": [
    {
     "data": {
      "text/plain": [
       "0    Takeaway\n",
       "Name: Location, dtype: object"
      ]
     },
     "execution_count": 281,
     "metadata": {},
     "output_type": "execute_result"
    }
   ],
   "source": [
    "df['Location'].mode()"
   ]
  },
  {
   "cell_type": "code",
   "execution_count": 283,
   "id": "c8db13c5-9485-4ac2-890a-6e1dc51f4bd1",
   "metadata": {},
   "outputs": [
    {
     "data": {
      "text/plain": [
       "array(['Takeaway', 'In-store', 'UNKNOWN', 'ERROR'], dtype=object)"
      ]
     },
     "execution_count": 283,
     "metadata": {},
     "output_type": "execute_result"
    }
   ],
   "source": [
    "df['Location'].unique()"
   ]
  },
  {
   "cell_type": "code",
   "execution_count": 321,
   "id": "c75be9c3-05a5-4e69-abc7-dbd5159fc15d",
   "metadata": {},
   "outputs": [],
   "source": [
    "df['Location'] = df['Location'].replace('ERROR', df['Location'].mode().iloc[0])\n",
    "df['Location'] = df['Location'].replace('UNKNOWN', df['Location'].mode().iloc[0])"
   ]
  },
  {
   "cell_type": "code",
   "execution_count": 323,
   "id": "f0f599a9-44b6-4328-a728-9d8c0c46bbd2",
   "metadata": {},
   "outputs": [
    {
     "data": {
      "text/plain": [
       "array(['Takeaway', 'In-store'], dtype=object)"
      ]
     },
     "execution_count": 323,
     "metadata": {},
     "output_type": "execute_result"
    }
   ],
   "source": [
    "df['Location'].unique()"
   ]
  },
  {
   "cell_type": "code",
   "execution_count": 325,
   "id": "7609269c-efe3-49c0-bafd-3ebbdd4bfa2b",
   "metadata": {},
   "outputs": [
    {
     "data": {
      "text/html": [
       "<div>\n",
       "<style scoped>\n",
       "    .dataframe tbody tr th:only-of-type {\n",
       "        vertical-align: middle;\n",
       "    }\n",
       "\n",
       "    .dataframe tbody tr th {\n",
       "        vertical-align: top;\n",
       "    }\n",
       "\n",
       "    .dataframe thead th {\n",
       "        text-align: right;\n",
       "    }\n",
       "</style>\n",
       "<table border=\"1\" class=\"dataframe\">\n",
       "  <thead>\n",
       "    <tr style=\"text-align: right;\">\n",
       "      <th></th>\n",
       "      <th>Transaction ID</th>\n",
       "      <th>Item</th>\n",
       "      <th>Quantity</th>\n",
       "      <th>Price Per Unit</th>\n",
       "      <th>Total Spent</th>\n",
       "      <th>Payment Method</th>\n",
       "      <th>Location</th>\n",
       "      <th>Transaction Date</th>\n",
       "    </tr>\n",
       "  </thead>\n",
       "  <tbody>\n",
       "    <tr>\n",
       "      <th>0</th>\n",
       "      <td>TXN_1961373</td>\n",
       "      <td>Coffee</td>\n",
       "      <td>2.0</td>\n",
       "      <td>2.0</td>\n",
       "      <td>4.0</td>\n",
       "      <td>Credit Card</td>\n",
       "      <td>Takeaway</td>\n",
       "      <td>2023-09-08</td>\n",
       "    </tr>\n",
       "    <tr>\n",
       "      <th>1</th>\n",
       "      <td>TXN_4977031</td>\n",
       "      <td>Cake</td>\n",
       "      <td>4.0</td>\n",
       "      <td>3.0</td>\n",
       "      <td>12.0</td>\n",
       "      <td>Cash</td>\n",
       "      <td>In-store</td>\n",
       "      <td>2023-05-16</td>\n",
       "    </tr>\n",
       "    <tr>\n",
       "      <th>2</th>\n",
       "      <td>TXN_4271903</td>\n",
       "      <td>Cookie</td>\n",
       "      <td>4.0</td>\n",
       "      <td>1.0</td>\n",
       "      <td>4.0</td>\n",
       "      <td>Credit Card</td>\n",
       "      <td>In-store</td>\n",
       "      <td>2023-07-19</td>\n",
       "    </tr>\n",
       "    <tr>\n",
       "      <th>4</th>\n",
       "      <td>TXN_3160411</td>\n",
       "      <td>Coffee</td>\n",
       "      <td>2.0</td>\n",
       "      <td>2.0</td>\n",
       "      <td>4.0</td>\n",
       "      <td>Digital Wallet</td>\n",
       "      <td>In-store</td>\n",
       "      <td>2023-06-11</td>\n",
       "    </tr>\n",
       "    <tr>\n",
       "      <th>5</th>\n",
       "      <td>TXN_2602893</td>\n",
       "      <td>Smoothie</td>\n",
       "      <td>5.0</td>\n",
       "      <td>4.0</td>\n",
       "      <td>20.0</td>\n",
       "      <td>Credit Card</td>\n",
       "      <td>Takeaway</td>\n",
       "      <td>2023-03-31</td>\n",
       "    </tr>\n",
       "  </tbody>\n",
       "</table>\n",
       "</div>"
      ],
      "text/plain": [
       "  Transaction ID      Item  Quantity  Price Per Unit  Total Spent  \\\n",
       "0    TXN_1961373    Coffee       2.0             2.0          4.0   \n",
       "1    TXN_4977031      Cake       4.0             3.0         12.0   \n",
       "2    TXN_4271903    Cookie       4.0             1.0          4.0   \n",
       "4    TXN_3160411    Coffee       2.0             2.0          4.0   \n",
       "5    TXN_2602893  Smoothie       5.0             4.0         20.0   \n",
       "\n",
       "   Payment Method  Location Transaction Date  \n",
       "0     Credit Card  Takeaway       2023-09-08  \n",
       "1            Cash  In-store       2023-05-16  \n",
       "2     Credit Card  In-store       2023-07-19  \n",
       "4  Digital Wallet  In-store       2023-06-11  \n",
       "5     Credit Card  Takeaway       2023-03-31  "
      ]
     },
     "execution_count": 325,
     "metadata": {},
     "output_type": "execute_result"
    }
   ],
   "source": [
    "df.head()"
   ]
  },
  {
   "cell_type": "code",
   "execution_count": 327,
   "id": "5a58482a-8232-482c-81bc-1adfd366d64d",
   "metadata": {},
   "outputs": [],
   "source": [
    "df.to_csv('output.csv', index=False)"
   ]
  },
  {
   "cell_type": "code",
   "execution_count": 329,
   "id": "d1a13d90-671d-49b8-a3d9-c8eb07591b9f",
   "metadata": {},
   "outputs": [
    {
     "data": {
      "text/html": [
       "<div>\n",
       "<style scoped>\n",
       "    .dataframe tbody tr th:only-of-type {\n",
       "        vertical-align: middle;\n",
       "    }\n",
       "\n",
       "    .dataframe tbody tr th {\n",
       "        vertical-align: top;\n",
       "    }\n",
       "\n",
       "    .dataframe thead tr th {\n",
       "        text-align: left;\n",
       "    }\n",
       "\n",
       "    .dataframe thead tr:last-of-type th {\n",
       "        text-align: right;\n",
       "    }\n",
       "</style>\n",
       "<table border=\"1\" class=\"dataframe\">\n",
       "  <thead>\n",
       "    <tr>\n",
       "      <th>Payment Method</th>\n",
       "      <th colspan=\"2\" halign=\"left\">Cash</th>\n",
       "      <th colspan=\"2\" halign=\"left\">Credit Card</th>\n",
       "      <th colspan=\"2\" halign=\"left\">Digital Wallet</th>\n",
       "    </tr>\n",
       "    <tr>\n",
       "      <th>Location</th>\n",
       "      <th>In-store</th>\n",
       "      <th>Takeaway</th>\n",
       "      <th>In-store</th>\n",
       "      <th>Takeaway</th>\n",
       "      <th>In-store</th>\n",
       "      <th>Takeaway</th>\n",
       "    </tr>\n",
       "    <tr>\n",
       "      <th>Item</th>\n",
       "      <th></th>\n",
       "      <th></th>\n",
       "      <th></th>\n",
       "      <th></th>\n",
       "      <th></th>\n",
       "      <th></th>\n",
       "    </tr>\n",
       "  </thead>\n",
       "  <tbody>\n",
       "    <tr>\n",
       "      <th>Cake</th>\n",
       "      <td>79</td>\n",
       "      <td>185</td>\n",
       "      <td>59</td>\n",
       "      <td>180</td>\n",
       "      <td>72</td>\n",
       "      <td>167</td>\n",
       "    </tr>\n",
       "    <tr>\n",
       "      <th>Coffee</th>\n",
       "      <td>69</td>\n",
       "      <td>161</td>\n",
       "      <td>68</td>\n",
       "      <td>164</td>\n",
       "      <td>60</td>\n",
       "      <td>196</td>\n",
       "    </tr>\n",
       "    <tr>\n",
       "      <th>Cookie</th>\n",
       "      <td>63</td>\n",
       "      <td>171</td>\n",
       "      <td>88</td>\n",
       "      <td>150</td>\n",
       "      <td>66</td>\n",
       "      <td>183</td>\n",
       "    </tr>\n",
       "    <tr>\n",
       "      <th>Juice</th>\n",
       "      <td>84</td>\n",
       "      <td>173</td>\n",
       "      <td>76</td>\n",
       "      <td>188</td>\n",
       "      <td>89</td>\n",
       "      <td>189</td>\n",
       "    </tr>\n",
       "    <tr>\n",
       "      <th>Salad</th>\n",
       "      <td>94</td>\n",
       "      <td>179</td>\n",
       "      <td>91</td>\n",
       "      <td>179</td>\n",
       "      <td>72</td>\n",
       "      <td>156</td>\n",
       "    </tr>\n",
       "    <tr>\n",
       "      <th>Sandwich</th>\n",
       "      <td>79</td>\n",
       "      <td>161</td>\n",
       "      <td>72</td>\n",
       "      <td>169</td>\n",
       "      <td>84</td>\n",
       "      <td>158</td>\n",
       "    </tr>\n",
       "    <tr>\n",
       "      <th>Smoothie</th>\n",
       "      <td>65</td>\n",
       "      <td>157</td>\n",
       "      <td>59</td>\n",
       "      <td>184</td>\n",
       "      <td>73</td>\n",
       "      <td>170</td>\n",
       "    </tr>\n",
       "    <tr>\n",
       "      <th>Tea</th>\n",
       "      <td>68</td>\n",
       "      <td>164</td>\n",
       "      <td>68</td>\n",
       "      <td>151</td>\n",
       "      <td>79</td>\n",
       "      <td>160</td>\n",
       "    </tr>\n",
       "  </tbody>\n",
       "</table>\n",
       "</div>"
      ],
      "text/plain": [
       "Payment Method     Cash          Credit Card          Digital Wallet         \n",
       "Location       In-store Takeaway    In-store Takeaway       In-store Takeaway\n",
       "Item                                                                         \n",
       "Cake                 79      185          59      180             72      167\n",
       "Coffee               69      161          68      164             60      196\n",
       "Cookie               63      171          88      150             66      183\n",
       "Juice                84      173          76      188             89      189\n",
       "Salad                94      179          91      179             72      156\n",
       "Sandwich             79      161          72      169             84      158\n",
       "Smoothie             65      157          59      184             73      170\n",
       "Tea                  68      164          68      151             79      160"
      ]
     },
     "execution_count": 329,
     "metadata": {},
     "output_type": "execute_result"
    }
   ],
   "source": [
    "pd.crosstab(df['Item'], [df['Payment Method'], df['Location']], rownames=['Item'], colnames=['Payment Method', 'Location'])"
   ]
  },
  {
   "cell_type": "code",
   "execution_count": 331,
   "id": "c90cf9da-58f8-4f25-a9c8-e0b7b7c34ac0",
   "metadata": {},
   "outputs": [
    {
     "data": {
      "image/png": "[encoded data removed]",
      "text/plain": [
       "<Figure size 640x480 with 2 Axes>"
      ]
     },
     "metadata": {},
     "output_type": "display_data"
    }
   ],
   "source": [
    "ct2 = pd.crosstab(df['Item'], df['Payment Method'])\n",
    "\n",
    "sns.heatmap(ct2, annot=True, cmap='Oranges')\n",
    "plt.title(\"Item vs Payment Method\")\n",
    "plt.xlabel(\"Payment Method\")\n",
    "plt.ylabel(\"Item\")\n",
    "plt.show()\n"
   ]
  }
 ],
 "metadata": {
  "kernelspec": {
   "display_name": "Python [conda env:base] *",
   "language": "python",
   "name": "conda-base-py"
  },
  "language_info": {
   "codemirror_mode": {
    "name": "ipython",
    "version": 3
   },
   "file_extension": ".py",
   "mimetype": "text/x-python",
   "name": "python",
   "nbconvert_exporter": "python",
   "pygments_lexer": "ipython3",
   "version": "3.11.9"
  }
 },
 "nbformat": 4,
 "nbformat_minor": 5
}
